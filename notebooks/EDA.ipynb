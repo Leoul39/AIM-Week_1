{
 "cells": [
  {
   "cell_type": "code",
   "execution_count": 1,
   "metadata": {},
   "outputs": [
    {
     "name": "stderr",
     "output_type": "stream",
     "text": [
      "[nltk_data] Error loading vader_lexicon: <urlopen error [Errno 11001]\n",
      "[nltk_data]     getaddrinfo failed>\n"
     ]
    }
   ],
   "source": [
    "import sys\n",
    "import pandas as pd\n",
    "import plotly.express as px\n",
    "import os\n",
    "import nltk\n",
    "nltk.downloader.download('vader_lexicon')\n",
    "from nltk.sentiment.vader import SentimentIntensityAnalyzer\n",
    "cur=os.getcwd()\n",
    "par=os.path.dirname(cur)\n",
    "sys.path.insert(0,par)\n",
    "from scripts.classes import FinancialAnalyzer"
   ]
  },
  {
   "cell_type": "code",
   "execution_count": 2,
   "metadata": {},
   "outputs": [
    {
     "data": {
      "text/plain": [
       "Unnamed: 0    0\n",
       "headline      0\n",
       "url           0\n",
       "publisher     0\n",
       "date          0\n",
       "stock         0\n",
       "dtype: int64"
      ]
     },
     "execution_count": 2,
     "metadata": {},
     "output_type": "execute_result"
    }
   ],
   "source": [
    "#reading the data\n",
    "news_df=pd.read_csv('C:/Users/abenet/Desktop/data/raw_analyst_ratings.csv')\n",
    "news_df.isnull().sum()\n"
   ]
  },
  {
   "cell_type": "markdown",
   "metadata": {},
   "source": [
    "Obtaining basic statistics for headline"
   ]
  },
  {
   "cell_type": "code",
   "execution_count": 3,
   "metadata": {},
   "outputs": [
    {
     "data": {
      "text/html": [
       "<div>\n",
       "<style scoped>\n",
       "    .dataframe tbody tr th:only-of-type {\n",
       "        vertical-align: middle;\n",
       "    }\n",
       "\n",
       "    .dataframe tbody tr th {\n",
       "        vertical-align: top;\n",
       "    }\n",
       "\n",
       "    .dataframe thead th {\n",
       "        text-align: right;\n",
       "    }\n",
       "</style>\n",
       "<table border=\"1\" class=\"dataframe\">\n",
       "  <thead>\n",
       "    <tr style=\"text-align: right;\">\n",
       "      <th></th>\n",
       "      <th>headline</th>\n",
       "      <th>url</th>\n",
       "      <th>publisher</th>\n",
       "      <th>date</th>\n",
       "      <th>stock</th>\n",
       "      <th>headline length</th>\n",
       "    </tr>\n",
       "  </thead>\n",
       "  <tbody>\n",
       "    <tr>\n",
       "      <th>0</th>\n",
       "      <td>Stocks That Hit 52-Week Highs On Friday</td>\n",
       "      <td>https://www.benzinga.com/news/20/06/16190091/s...</td>\n",
       "      <td>Benzinga Insights</td>\n",
       "      <td>2020-06-05 10:30:54-04:00</td>\n",
       "      <td>A</td>\n",
       "      <td>7</td>\n",
       "    </tr>\n",
       "    <tr>\n",
       "      <th>1</th>\n",
       "      <td>Stocks That Hit 52-Week Highs On Wednesday</td>\n",
       "      <td>https://www.benzinga.com/news/20/06/16170189/s...</td>\n",
       "      <td>Benzinga Insights</td>\n",
       "      <td>2020-06-03 10:45:20-04:00</td>\n",
       "      <td>A</td>\n",
       "      <td>7</td>\n",
       "    </tr>\n",
       "    <tr>\n",
       "      <th>2</th>\n",
       "      <td>71 Biggest Movers From Friday</td>\n",
       "      <td>https://www.benzinga.com/news/20/05/16103463/7...</td>\n",
       "      <td>Lisa Levin</td>\n",
       "      <td>2020-05-26 04:30:07-04:00</td>\n",
       "      <td>A</td>\n",
       "      <td>5</td>\n",
       "    </tr>\n",
       "    <tr>\n",
       "      <th>3</th>\n",
       "      <td>46 Stocks Moving In Friday's Mid-Day Session</td>\n",
       "      <td>https://www.benzinga.com/news/20/05/16095921/4...</td>\n",
       "      <td>Lisa Levin</td>\n",
       "      <td>2020-05-22 12:45:06-04:00</td>\n",
       "      <td>A</td>\n",
       "      <td>7</td>\n",
       "    </tr>\n",
       "    <tr>\n",
       "      <th>4</th>\n",
       "      <td>B of A Securities Maintains Neutral on Agilent...</td>\n",
       "      <td>https://www.benzinga.com/news/20/05/16095304/b...</td>\n",
       "      <td>Vick Meyer</td>\n",
       "      <td>2020-05-22 11:38:59-04:00</td>\n",
       "      <td>A</td>\n",
       "      <td>14</td>\n",
       "    </tr>\n",
       "  </tbody>\n",
       "</table>\n",
       "</div>"
      ],
      "text/plain": [
       "                                            headline  \\\n",
       "0            Stocks That Hit 52-Week Highs On Friday   \n",
       "1         Stocks That Hit 52-Week Highs On Wednesday   \n",
       "2                      71 Biggest Movers From Friday   \n",
       "3       46 Stocks Moving In Friday's Mid-Day Session   \n",
       "4  B of A Securities Maintains Neutral on Agilent...   \n",
       "\n",
       "                                                 url          publisher  \\\n",
       "0  https://www.benzinga.com/news/20/06/16190091/s...  Benzinga Insights   \n",
       "1  https://www.benzinga.com/news/20/06/16170189/s...  Benzinga Insights   \n",
       "2  https://www.benzinga.com/news/20/05/16103463/7...         Lisa Levin   \n",
       "3  https://www.benzinga.com/news/20/05/16095921/4...         Lisa Levin   \n",
       "4  https://www.benzinga.com/news/20/05/16095304/b...         Vick Meyer   \n",
       "\n",
       "                        date stock  headline length  \n",
       "0  2020-06-05 10:30:54-04:00     A                7  \n",
       "1  2020-06-03 10:45:20-04:00     A                7  \n",
       "2  2020-05-26 04:30:07-04:00     A                5  \n",
       "3  2020-05-22 12:45:06-04:00     A                7  \n",
       "4  2020-05-22 11:38:59-04:00     A               14  "
      ]
     },
     "execution_count": 3,
     "metadata": {},
     "output_type": "execute_result"
    }
   ],
   "source": [
    "news_df=news_df.drop(['Unnamed: 0'],axis=1)\n",
    "news_df['headline length']=news_df['headline'].apply(lambda x: len(x.split()))\n",
    "news_df.head()"
   ]
  },
  {
   "cell_type": "code",
   "execution_count": 8,
   "metadata": {},
   "outputs": [
    {
     "name": "stdout",
     "output_type": "stream",
     "text": [
      "The mean headline length is 11 words\n"
     ]
    }
   ],
   "source": [
    "print(f\"The mean headline length is {round(news_df['headline length'].mean())} words\")"
   ]
  },
  {
   "cell_type": "code",
   "execution_count": 4,
   "metadata": {},
   "outputs": [
    {
     "data": {
      "text/plain": [
       "publisher\n",
       "Paul Quintaro        228373\n",
       "Lisa Levin           186979\n",
       "Benzinga Newsdesk    150484\n",
       "Charles Gross         96732\n",
       "Monica Gerson         82380\n",
       "Eddie Staley          57254\n",
       "Hal Lindon            49047\n",
       "ETF Professor         28489\n",
       "Juan Lopez            28438\n",
       "Benzinga Staff        28114\n",
       "Name: count, dtype: int64"
      ]
     },
     "execution_count": 4,
     "metadata": {},
     "output_type": "execute_result"
    }
   ],
   "source": [
    "#Top 10 publishers with the most articles\n",
    "news_df['publisher'].value_counts().head(10)"
   ]
  },
  {
   "cell_type": "code",
   "execution_count": 6,
   "metadata": {},
   "outputs": [
    {
     "name": "stderr",
     "output_type": "stream",
     "text": [
      "C:\\Users\\abenet\\AppData\\Local\\Temp\\ipykernel_7568\\2666720423.py:4: SettingWithCopyWarning: \n",
      "A value is trying to be set on a copy of a slice from a DataFrame.\n",
      "Try using .loc[row_indexer,col_indexer] = value instead\n",
      "\n",
      "See the caveats in the documentation: https://pandas.pydata.org/pandas-docs/stable/user_guide/indexing.html#returning-a-view-versus-a-copy\n",
      "  news_df['sentiment'] = news_df['headline'].apply(lambda x: sia.polarity_scores(text=x)['compound'])\n"
     ]
    },
    {
     "data": {
      "text/plain": [
       "Unnamed: 0    0\n",
       "headline      0\n",
       "url           0\n",
       "publisher     0\n",
       "date          0\n",
       "stock         0\n",
       "sentiment     0\n",
       "dtype: int64"
      ]
     },
     "execution_count": 6,
     "metadata": {},
     "output_type": "execute_result"
    }
   ],
   "source": [
    "#creating the instance of the sentiment analyzer\n",
    "news_df=news_df[news_df['stock']=='AAPL']\n",
    "sia=SentimentIntensityAnalyzer()\n",
    "news_df['sentiment'] = news_df['headline'].apply(lambda x: sia.polarity_scores(text=x)['compound'])\n",
    "news_df.isnull().sum()\n"
   ]
  },
  {
   "cell_type": "code",
   "execution_count": 7,
   "metadata": {},
   "outputs": [
    {
     "name": "stderr",
     "output_type": "stream",
     "text": [
      "C:\\Users\\abenet\\AppData\\Local\\Temp\\ipykernel_7568\\1399405147.py:1: SettingWithCopyWarning: \n",
      "A value is trying to be set on a copy of a slice from a DataFrame.\n",
      "Try using .loc[row_indexer,col_indexer] = value instead\n",
      "\n",
      "See the caveats in the documentation: https://pandas.pydata.org/pandas-docs/stable/user_guide/indexing.html#returning-a-view-versus-a-copy\n",
      "  news_df['sentiment_category'] = pd.cut(news_df['sentiment'], bins=[-1, -0.5, -0.0001,0.0001, 0.5, 1], labels=['Very Negative', 'Slightly Negative', 'Neutral', 'Slightly Positive','Very Postive'])\n"
     ]
    },
    {
     "data": {
      "text/plain": [
       "sentiment_category\n",
       "Neutral              189\n",
       "Slightly Positive    109\n",
       "Slightly Negative     74\n",
       "Very Postive          43\n",
       "Very Negative         26\n",
       "Name: count, dtype: int64"
      ]
     },
     "execution_count": 7,
     "metadata": {},
     "output_type": "execute_result"
    }
   ],
   "source": [
    "news_df['sentiment_category'] = pd.cut(news_df['sentiment'], bins=[-1, -0.5, -0.0001,0.0001, 0.5, 1], labels=['Very Negative', 'Slightly Negative', 'Neutral', 'Slightly Positive','Very Postive'])\n",
    "news_df['sentiment_category'].value_counts()"
   ]
  },
  {
   "cell_type": "markdown",
   "metadata": {},
   "source": [
    "Publisher Analysis"
   ]
  },
  {
   "cell_type": "code",
   "execution_count": 7,
   "metadata": {},
   "outputs": [
    {
     "data": {
      "text/html": [
       "<div>\n",
       "<style scoped>\n",
       "    .dataframe tbody tr th:only-of-type {\n",
       "        vertical-align: middle;\n",
       "    }\n",
       "\n",
       "    .dataframe tbody tr th {\n",
       "        vertical-align: top;\n",
       "    }\n",
       "\n",
       "    .dataframe thead th {\n",
       "        text-align: right;\n",
       "    }\n",
       "</style>\n",
       "<table border=\"1\" class=\"dataframe\">\n",
       "  <thead>\n",
       "    <tr style=\"text-align: right;\">\n",
       "      <th></th>\n",
       "      <th>headline</th>\n",
       "      <th>url</th>\n",
       "      <th>publisher</th>\n",
       "      <th>date</th>\n",
       "      <th>stock</th>\n",
       "      <th>headline length</th>\n",
       "      <th>sentiment</th>\n",
       "      <th>sentiment_category</th>\n",
       "    </tr>\n",
       "  </thead>\n",
       "  <tbody>\n",
       "    <tr>\n",
       "      <th>6680</th>\n",
       "      <td>Tech Stocks And FAANGS Strong Again To Start D...</td>\n",
       "      <td>https://www.benzinga.com/government/20/06/1622...</td>\n",
       "      <td>JJ Kinahan</td>\n",
       "      <td>2020-06-10 11:33:26-04:00</td>\n",
       "      <td>AAPL</td>\n",
       "      <td>13</td>\n",
       "      <td>0.5574</td>\n",
       "      <td>Very Postive</td>\n",
       "    </tr>\n",
       "    <tr>\n",
       "      <th>6681</th>\n",
       "      <td>10 Biggest Price Target Changes For Wednesday</td>\n",
       "      <td>https://www.benzinga.com/analyst-ratings/price...</td>\n",
       "      <td>Lisa Levin</td>\n",
       "      <td>2020-06-10 08:14:08-04:00</td>\n",
       "      <td>AAPL</td>\n",
       "      <td>7</td>\n",
       "      <td>0.0000</td>\n",
       "      <td>Neutral</td>\n",
       "    </tr>\n",
       "    <tr>\n",
       "      <th>6682</th>\n",
       "      <td>Benzinga Pro's Top 5 Stocks To Watch For Wed.,...</td>\n",
       "      <td>https://www.benzinga.com/short-sellers/20/06/1...</td>\n",
       "      <td>Benzinga Newsdesk</td>\n",
       "      <td>2020-06-10 07:53:47-04:00</td>\n",
       "      <td>AAPL</td>\n",
       "      <td>17</td>\n",
       "      <td>0.2023</td>\n",
       "      <td>Slightly Positive</td>\n",
       "    </tr>\n",
       "    <tr>\n",
       "      <th>6683</th>\n",
       "      <td>Deutsche Bank Maintains Buy on Apple, Raises P...</td>\n",
       "      <td>https://www.benzinga.com/news/20/06/16219873/d...</td>\n",
       "      <td>Benzinga Newsdesk</td>\n",
       "      <td>2020-06-10 07:19:25-04:00</td>\n",
       "      <td>AAPL</td>\n",
       "      <td>11</td>\n",
       "      <td>0.0000</td>\n",
       "      <td>Neutral</td>\n",
       "    </tr>\n",
       "    <tr>\n",
       "      <th>6684</th>\n",
       "      <td>Apple To Let Users Trade In Their Mac Computer...</td>\n",
       "      <td>https://www.benzinga.com/news/20/06/16218697/a...</td>\n",
       "      <td>Neer Varshney</td>\n",
       "      <td>2020-06-10 06:27:11-04:00</td>\n",
       "      <td>AAPL</td>\n",
       "      <td>16</td>\n",
       "      <td>0.3818</td>\n",
       "      <td>Slightly Positive</td>\n",
       "    </tr>\n",
       "    <tr>\n",
       "      <th>...</th>\n",
       "      <td>...</td>\n",
       "      <td>...</td>\n",
       "      <td>...</td>\n",
       "      <td>...</td>\n",
       "      <td>...</td>\n",
       "      <td>...</td>\n",
       "      <td>...</td>\n",
       "      <td>...</td>\n",
       "    </tr>\n",
       "    <tr>\n",
       "      <th>7116</th>\n",
       "      <td>UBS Maintains Buy on Apple, Lowers Price Targe...</td>\n",
       "      <td>https://www.benzinga.com/news/20/03/15514989/u...</td>\n",
       "      <td>Vick Meyer</td>\n",
       "      <td>2020-03-10 00:00:00</td>\n",
       "      <td>AAPL</td>\n",
       "      <td>10</td>\n",
       "      <td>-0.1280</td>\n",
       "      <td>Slightly Negative</td>\n",
       "    </tr>\n",
       "    <tr>\n",
       "      <th>7117</th>\n",
       "      <td>123 Biggest Movers From Yesterday</td>\n",
       "      <td>https://www.benzinga.com/news/20/03/15514298/1...</td>\n",
       "      <td>Lisa Levin</td>\n",
       "      <td>2020-03-10 00:00:00</td>\n",
       "      <td>AAPL</td>\n",
       "      <td>5</td>\n",
       "      <td>0.0000</td>\n",
       "      <td>Neutral</td>\n",
       "    </tr>\n",
       "    <tr>\n",
       "      <th>7118</th>\n",
       "      <td>Crude Awakening: Energy Sector Takes A 20% Spi...</td>\n",
       "      <td>https://www.benzinga.com/news/earnings/20/03/1...</td>\n",
       "      <td>JJ Kinahan</td>\n",
       "      <td>2020-03-09 00:00:00</td>\n",
       "      <td>AAPL</td>\n",
       "      <td>17</td>\n",
       "      <td>-0.9062</td>\n",
       "      <td>Very Negative</td>\n",
       "    </tr>\n",
       "    <tr>\n",
       "      <th>7119</th>\n",
       "      <td>Investor Movement Index Summary: February 2020</td>\n",
       "      <td>https://www.benzinga.com/news/earnings/20/03/1...</td>\n",
       "      <td>TD Ameritrade</td>\n",
       "      <td>2020-03-09 00:00:00</td>\n",
       "      <td>AAPL</td>\n",
       "      <td>6</td>\n",
       "      <td>0.0000</td>\n",
       "      <td>Neutral</td>\n",
       "    </tr>\n",
       "    <tr>\n",
       "      <th>7120</th>\n",
       "      <td>101 Stocks Moving In Monday's Mid-Day Session</td>\n",
       "      <td>https://www.benzinga.com/news/20/03/15508983/1...</td>\n",
       "      <td>Lisa Levin</td>\n",
       "      <td>2020-03-09 00:00:00</td>\n",
       "      <td>AAPL</td>\n",
       "      <td>7</td>\n",
       "      <td>0.0000</td>\n",
       "      <td>Neutral</td>\n",
       "    </tr>\n",
       "  </tbody>\n",
       "</table>\n",
       "<p>441 rows × 8 columns</p>\n",
       "</div>"
      ],
      "text/plain": [
       "                                               headline  \\\n",
       "6680  Tech Stocks And FAANGS Strong Again To Start D...   \n",
       "6681      10 Biggest Price Target Changes For Wednesday   \n",
       "6682  Benzinga Pro's Top 5 Stocks To Watch For Wed.,...   \n",
       "6683  Deutsche Bank Maintains Buy on Apple, Raises P...   \n",
       "6684  Apple To Let Users Trade In Their Mac Computer...   \n",
       "...                                                 ...   \n",
       "7116  UBS Maintains Buy on Apple, Lowers Price Targe...   \n",
       "7117                  123 Biggest Movers From Yesterday   \n",
       "7118  Crude Awakening: Energy Sector Takes A 20% Spi...   \n",
       "7119     Investor Movement Index Summary: February 2020   \n",
       "7120      101 Stocks Moving In Monday's Mid-Day Session   \n",
       "\n",
       "                                                    url          publisher  \\\n",
       "6680  https://www.benzinga.com/government/20/06/1622...         JJ Kinahan   \n",
       "6681  https://www.benzinga.com/analyst-ratings/price...         Lisa Levin   \n",
       "6682  https://www.benzinga.com/short-sellers/20/06/1...  Benzinga Newsdesk   \n",
       "6683  https://www.benzinga.com/news/20/06/16219873/d...  Benzinga Newsdesk   \n",
       "6684  https://www.benzinga.com/news/20/06/16218697/a...      Neer Varshney   \n",
       "...                                                 ...                ...   \n",
       "7116  https://www.benzinga.com/news/20/03/15514989/u...         Vick Meyer   \n",
       "7117  https://www.benzinga.com/news/20/03/15514298/1...         Lisa Levin   \n",
       "7118  https://www.benzinga.com/news/earnings/20/03/1...         JJ Kinahan   \n",
       "7119  https://www.benzinga.com/news/earnings/20/03/1...      TD Ameritrade   \n",
       "7120  https://www.benzinga.com/news/20/03/15508983/1...         Lisa Levin   \n",
       "\n",
       "                           date stock  headline length  sentiment  \\\n",
       "6680  2020-06-10 11:33:26-04:00  AAPL               13     0.5574   \n",
       "6681  2020-06-10 08:14:08-04:00  AAPL                7     0.0000   \n",
       "6682  2020-06-10 07:53:47-04:00  AAPL               17     0.2023   \n",
       "6683  2020-06-10 07:19:25-04:00  AAPL               11     0.0000   \n",
       "6684  2020-06-10 06:27:11-04:00  AAPL               16     0.3818   \n",
       "...                         ...   ...              ...        ...   \n",
       "7116        2020-03-10 00:00:00  AAPL               10    -0.1280   \n",
       "7117        2020-03-10 00:00:00  AAPL                5     0.0000   \n",
       "7118        2020-03-09 00:00:00  AAPL               17    -0.9062   \n",
       "7119        2020-03-09 00:00:00  AAPL                6     0.0000   \n",
       "7120        2020-03-09 00:00:00  AAPL                7     0.0000   \n",
       "\n",
       "     sentiment_category  \n",
       "6680       Very Postive  \n",
       "6681            Neutral  \n",
       "6682  Slightly Positive  \n",
       "6683            Neutral  \n",
       "6684  Slightly Positive  \n",
       "...                 ...  \n",
       "7116  Slightly Negative  \n",
       "7117            Neutral  \n",
       "7118      Very Negative  \n",
       "7119            Neutral  \n",
       "7120            Neutral  \n",
       "\n",
       "[441 rows x 8 columns]"
      ]
     },
     "execution_count": 7,
     "metadata": {},
     "output_type": "execute_result"
    }
   ],
   "source": [
    "#Top 10 publishers with the most articles\n",
    "news_df['publisher'].value_counts().head(10)\n",
    "news_df"
   ]
  },
  {
   "cell_type": "code",
   "execution_count": 8,
   "metadata": {},
   "outputs": [
    {
     "data": {
      "text/plain": [
       "handle\n",
       "benzinga.com    4\n",
       "Name: count, dtype: int64"
      ]
     },
     "execution_count": 8,
     "metadata": {},
     "output_type": "execute_result"
    }
   ],
   "source": [
    "#Publisher who used email adresses as publisher name\n",
    "dr=news_df[news_df['publisher'].str.contains('@')]\n",
    "dr=dr['publisher'].str.split('@',expand=True)\n",
    "dr.columns=['user','handle']\n",
    "dr['handle'].value_counts()"
   ]
  },
  {
   "cell_type": "code",
   "execution_count": 18,
   "metadata": {},
   "outputs": [
    {
     "data": {
      "application/vnd.plotly.v1+json": {
       "config": {
        "plotlyServerURL": "https://plot.ly"
       },
       "data": [
        {
         "hovertemplate": "variable=MACD<br>index=%{x}<br>value=%{y}<extra></extra>",
         "legendgroup": "MACD",
         "line": {
          "color": "#636efa",
          "dash": "solid"
         },
         "marker": {
          "symbol": "circle"
         },
         "mode": "lines",
         "name": "MACD",
         "orientation": "v",
         "showlegend": true,
         "type": "scatter",
         "x": [
          9847,
          9848,
          9849,
          9850,
          9851,
          9852,
          9853,
          9854,
          9855,
          9856,
          9857,
          9858,
          9859,
          9860,
          9861,
          9862,
          9863,
          9864,
          9865,
          9866,
          9867,
          9868,
          9869,
          9870,
          9871,
          9872,
          9873,
          9874,
          9875,
          9876,
          9877,
          9878,
          9879,
          9880,
          9881,
          9882,
          9883,
          9884,
          9885,
          9886,
          9887,
          9888,
          9889,
          9890,
          9891,
          9892,
          9893,
          9894,
          9895,
          9896,
          9897,
          9898,
          9899,
          9900,
          9901,
          9902,
          9903,
          9904,
          9905,
          9906,
          9907,
          9908,
          9909,
          9910,
          9911,
          9912,
          9913,
          9914,
          9915,
          9916,
          9917,
          9918,
          9919,
          9920,
          9921,
          9922,
          9923,
          9924,
          9925,
          9926,
          9927,
          9928,
          9929,
          9930,
          9931,
          9932,
          9933,
          9934,
          9935,
          9936,
          9937,
          9938,
          9939,
          9940,
          9941,
          9942,
          9943,
          9944,
          9945,
          9946,
          9947,
          9948,
          9949,
          9950,
          9951,
          9952,
          9953,
          9954,
          9955,
          9956,
          9957,
          9958,
          9959,
          9960,
          9961,
          9962,
          9963,
          9964,
          9965,
          9966,
          9967,
          9968,
          9969,
          9970,
          9971,
          9972,
          9973,
          9974,
          9975,
          9976,
          9977,
          9978,
          9979,
          9980,
          9981,
          9982,
          9983,
          9984,
          9985,
          9986,
          9987,
          9988,
          9989,
          9990,
          9991,
          9992,
          9993,
          9994,
          9995,
          9996,
          9997,
          9998,
          9999,
          10000,
          10001,
          10002,
          10003,
          10004,
          10005,
          10006,
          10007,
          10008,
          10009,
          10010,
          10011,
          10012,
          10013,
          10014,
          10015,
          10016,
          10017,
          10018,
          10019,
          10020,
          10021,
          10022,
          10023,
          10024,
          10025,
          10026,
          10027,
          10028,
          10029,
          10030,
          10031,
          10032,
          10033,
          10034,
          10035,
          10036,
          10037,
          10038,
          10039,
          10040,
          10041,
          10042,
          10043,
          10044,
          10045,
          10046,
          10047,
          10048,
          10049,
          10050,
          10051,
          10052,
          10053,
          10054,
          10055,
          10056,
          10057,
          10058,
          10059,
          10060,
          10061,
          10062,
          10063,
          10064,
          10065,
          10066,
          10067,
          10068,
          10069,
          10070,
          10071,
          10072,
          10073,
          10074,
          10075,
          10076,
          10077,
          10078,
          10079,
          10080,
          10081,
          10082,
          10083,
          10084,
          10085,
          10086,
          10087,
          10088,
          10089,
          10090,
          10091,
          10092,
          10093,
          10094,
          10095,
          10096,
          10097,
          10098
         ],
         "xaxis": "x",
         "y": [
          null,
          null,
          null,
          null,
          null,
          null,
          null,
          null,
          null,
          null,
          null,
          null,
          null,
          null,
          null,
          null,
          null,
          null,
          null,
          null,
          null,
          null,
          null,
          null,
          null,
          null,
          null,
          null,
          null,
          null,
          null,
          null,
          null,
          0.9337191693516189,
          0.7007862846733275,
          0.2137502326917371,
          -0.3716912429501775,
          -0.7349949169108498,
          -1.3927686059456903,
          -1.8954373116310563,
          -1.7601155434479523,
          -1.8232949828111487,
          -1.5843812663511585,
          -1.5749825214924158,
          -1.6272489534495094,
          -2.105551433322276,
          -2.073987603865362,
          -2.2232583221521196,
          -2.857322119525193,
          -2.728428151853805,
          -3.3095119348475492,
          -3.5146687305982596,
          -3.7587982491136245,
          -3.9449248027398767,
          -4.35570843817915,
          -4.725032479845602,
          -4.511624825086386,
          -4.32013308694772,
          -3.8632078803421948,
          -3.6745831376066036,
          -3.3439276354393073,
          -3.0571300749534487,
          -3.0644294422888763,
          -2.9550553259139107,
          -2.9058867213239665,
          -2.4142488408177343,
          -2.062176610937307,
          -1.6304140120771038,
          -1.2352679975302152,
          -0.8067030563624371,
          -0.1865261743186437,
          0.24924243376968036,
          0.6328876356175073,
          0.8486733262916317,
          0.8909992687699884,
          0.7432945798706072,
          0.77326070276942,
          0.7665871691983739,
          0.9109702081756126,
          1.0176982433188044,
          0.9981803763752737,
          1.1539924447042296,
          1.3839701844709822,
          1.4540503395043913,
          1.5739529481693637,
          1.7377061187265639,
          1.9074250608857,
          2.08068120422233,
          2.320147919720185,
          2.5786458948276305,
          2.6799915268806984,
          2.6538662116319784,
          2.6408467700340736,
          2.5640551656224915,
          2.6192576958912213,
          2.596362617241226,
          2.6702896180033946,
          2.6503144970857164,
          2.645145390458225,
          2.567874417469156,
          2.5055918115283333,
          2.4310334601301093,
          2.3387324248446646,
          2.3177418585537595,
          2.3045981505093494,
          2.3035356979191164,
          2.2206119605835823,
          2.3134138783068323,
          2.3988463912590134,
          2.648443391121944,
          2.9903107532941107,
          2.886243130770822,
          2.8296516451822242,
          2.836628146527673,
          2.991049797949671,
          3.0681774996836424,
          3.0964325154020713,
          3.043196990905159,
          3.149286449808642,
          3.3492792732672996,
          3.3387690191736823,
          3.387813450805126,
          3.1640699314600482,
          3.1152500161599335,
          3.1017270712127214,
          3.0420241218247526,
          2.960581365217948,
          3.05727954680178,
          3.075065461655285,
          3.227062081223835,
          3.3420789604133603,
          3.4074670125688016,
          3.384566508855883,
          3.4540939923688683,
          3.522451719912141,
          3.4399405668767997,
          3.320537943494159,
          3.3510852159047317,
          3.2285388065566423,
          3.117472016152888,
          2.641736416121006,
          2.2205559897181786,
          2.0403655345484566,
          1.751694022892849,
          1.6481570299541772,
          1.6399939004574833,
          2.418213715960789,
          3.213961677741736,
          3.8588188527091347,
          4.351783018151963,
          4.994740029220651,
          5.2189975959308725,
          5.464053951050914,
          5.326345279310289,
          5.447726458707848,
          5.640287480073923,
          5.7187008855457435,
          5.691033641994025,
          5.6806844246858645,
          5.6194056028835035,
          5.712171523999089,
          6.205966328530366,
          6.64077994037693,
          6.823402701962721,
          7.024136914050175,
          6.98070513660592,
          6.850971397991259,
          7.008888980317238,
          7.462768644501097,
          7.51156028909439,
          6.624983523000125,
          5.861255621295314,
          4.546753688633899,
          3.8240327591853855,
          2.908692480254871,
          2.039537816971503,
          1.6033678267123435,
          1.2577262025436937,
          0.7005682139521952,
          0.11327264314523688,
          -0.6273523498590095,
          -0.9420028053237957,
          -1.0397833855529228,
          -1.478673359219954,
          -1.7179328807189904,
          -1.5619348899746512,
          -1.2081252160159295,
          -0.9865580242825445,
          -0.6645145940731396,
          -0.3264516434235105,
          -0.3586083432142999,
          -0.10210852861449382,
          -0.1664219597584662,
          -0.06175118196669871,
          0.012184577380196515,
          0.229516758322859,
          0.9898822605190531,
          1.311081401865664,
          1.5549718558452525,
          1.690042777289321,
          1.6417928169719005,
          1.3427736649294673,
          1.2152483211941956,
          1.0504322365157606,
          0.8199871392595526,
          0.5734562997503474,
          0.3745681337971263,
          0.33812184791065647,
          -0.12505552740282155,
          -0.15785746243786036,
          -0.6970856010421898,
          -1.1187935976120116,
          -1.3032219802693703,
          -1.073093977757381,
          -0.5550950379529525,
          -0.17005175836008846,
          -0.055501809593181406,
          0.00695769432100235,
          0.33661136613004317,
          0.5687149230037107,
          0.748070204762854,
          0.9630287440776186,
          1.0478759828131814,
          0.9939200558365116,
          0.9889811867422509,
          0.8701373143858007,
          0.4887055356361998,
          0.28959280103903495,
          0.19889662973267264,
          0.17024391751739643,
          0.3420949615601785,
          0.7656009615487562,
          1.1174008568208649,
          1.369125600018549,
          1.495700339676418,
          1.6974816845402643,
          1.8864841523325708,
          1.8056573282817538,
          1.8382213409260117,
          1.7765757012307972,
          1.657775158667107,
          2.0324153507916236,
          2.2971914190993203,
          2.549455339379577,
          2.5553098827067373,
          2.6560179673682143,
          2.9958211233798693,
          3.1545180882779107,
          3.323473755472378,
          3.794496398310784,
          3.975103338792806,
          3.9795667751911736
         ],
         "yaxis": "y"
        },
        {
         "hovertemplate": "variable=MACD_Signal<br>index=%{x}<br>value=%{y}<extra></extra>",
         "legendgroup": "MACD_Signal",
         "line": {
          "color": "#EF553B",
          "dash": "solid"
         },
         "marker": {
          "symbol": "circle"
         },
         "mode": "lines",
         "name": "MACD_Signal",
         "orientation": "v",
         "showlegend": true,
         "type": "scatter",
         "x": [
          9847,
          9848,
          9849,
          9850,
          9851,
          9852,
          9853,
          9854,
          9855,
          9856,
          9857,
          9858,
          9859,
          9860,
          9861,
          9862,
          9863,
          9864,
          9865,
          9866,
          9867,
          9868,
          9869,
          9870,
          9871,
          9872,
          9873,
          9874,
          9875,
          9876,
          9877,
          9878,
          9879,
          9880,
          9881,
          9882,
          9883,
          9884,
          9885,
          9886,
          9887,
          9888,
          9889,
          9890,
          9891,
          9892,
          9893,
          9894,
          9895,
          9896,
          9897,
          9898,
          9899,
          9900,
          9901,
          9902,
          9903,
          9904,
          9905,
          9906,
          9907,
          9908,
          9909,
          9910,
          9911,
          9912,
          9913,
          9914,
          9915,
          9916,
          9917,
          9918,
          9919,
          9920,
          9921,
          9922,
          9923,
          9924,
          9925,
          9926,
          9927,
          9928,
          9929,
          9930,
          9931,
          9932,
          9933,
          9934,
          9935,
          9936,
          9937,
          9938,
          9939,
          9940,
          9941,
          9942,
          9943,
          9944,
          9945,
          9946,
          9947,
          9948,
          9949,
          9950,
          9951,
          9952,
          9953,
          9954,
          9955,
          9956,
          9957,
          9958,
          9959,
          9960,
          9961,
          9962,
          9963,
          9964,
          9965,
          9966,
          9967,
          9968,
          9969,
          9970,
          9971,
          9972,
          9973,
          9974,
          9975,
          9976,
          9977,
          9978,
          9979,
          9980,
          9981,
          9982,
          9983,
          9984,
          9985,
          9986,
          9987,
          9988,
          9989,
          9990,
          9991,
          9992,
          9993,
          9994,
          9995,
          9996,
          9997,
          9998,
          9999,
          10000,
          10001,
          10002,
          10003,
          10004,
          10005,
          10006,
          10007,
          10008,
          10009,
          10010,
          10011,
          10012,
          10013,
          10014,
          10015,
          10016,
          10017,
          10018,
          10019,
          10020,
          10021,
          10022,
          10023,
          10024,
          10025,
          10026,
          10027,
          10028,
          10029,
          10030,
          10031,
          10032,
          10033,
          10034,
          10035,
          10036,
          10037,
          10038,
          10039,
          10040,
          10041,
          10042,
          10043,
          10044,
          10045,
          10046,
          10047,
          10048,
          10049,
          10050,
          10051,
          10052,
          10053,
          10054,
          10055,
          10056,
          10057,
          10058,
          10059,
          10060,
          10061,
          10062,
          10063,
          10064,
          10065,
          10066,
          10067,
          10068,
          10069,
          10070,
          10071,
          10072,
          10073,
          10074,
          10075,
          10076,
          10077,
          10078,
          10079,
          10080,
          10081,
          10082,
          10083,
          10084,
          10085,
          10086,
          10087,
          10088,
          10089,
          10090,
          10091,
          10092,
          10093,
          10094,
          10095,
          10096,
          10097,
          10098
         ],
         "xaxis": "x",
         "y": [
          null,
          null,
          null,
          null,
          null,
          null,
          null,
          null,
          null,
          null,
          null,
          null,
          null,
          null,
          null,
          null,
          null,
          null,
          null,
          null,
          null,
          null,
          null,
          null,
          null,
          null,
          null,
          null,
          null,
          null,
          null,
          null,
          null,
          1.1210284288351682,
          1.0369800000028,
          0.8723340465405874,
          0.6235289886424344,
          0.35182420753177757,
          0.0029056448362839715,
          -0.3767629464571841,
          -0.6534334658553378,
          -0.8874057692464999,
          -1.0268008686674317,
          -1.1364371992324285,
          -1.2345995500758447,
          -1.408789926725131,
          -1.5418294621531772,
          -1.6781152341529657,
          -1.9139566112274111,
          -2.07685091935269,
          -2.323383122451662,
          -2.5616402440809813,
          -2.80107184508751,
          -3.0298424366179835,
          -3.295015636930217,
          -3.5810190055132938,
          -3.767140169427912,
          -3.8777387529318736,
          -3.8748325784139377,
          -3.834782690252471,
          -3.736611679289838,
          -3.60071535842256,
          -3.4934581751958236,
          -3.385777605339441,
          -3.289799428536346,
          -3.1146893109926235,
          -2.90418677098156,
          -2.6494322192006687,
          -2.366599374866578,
          -2.05462011116575,
          -1.6810013237963286,
          -1.2949525722831268,
          -0.909384530703,
          -0.5577729593040737,
          -0.2680185136892613,
          -0.06575589497728757,
          0.10204742457205399,
          0.234955373497318,
          0.3701583404329769,
          0.4996663210101424,
          0.5993691320831687,
          0.7102937946073808,
          0.8450290725801011,
          0.9668333259649591,
          1.08825725040584,
          1.2181470240699848,
          1.3560026314331277,
          1.5009383459909682,
          1.6647802607368116,
          1.8475533875549754,
          2.01404101542012,
          2.1420060546624917,
          2.241774197736808,
          2.306230391313945,
          2.3688358522294,
          2.414341205231765,
          2.465530887786091,
          2.5024876096460162,
          2.531019165808458,
          2.5383902161405976,
          2.5318305352181447,
          2.5116711202005377,
          2.477083381129363,
          2.445215076614242,
          2.4170916913932636,
          2.394380492698434,
          2.359626786275464,
          2.3503842046817374,
          2.3600766419971926,
          2.417749991822143,
          2.5322621441165363,
          2.6030583414473933,
          2.6483770021943593,
          2.686027231061022,
          2.7470317444387518,
          2.81126089548773,
          2.8682952194705984,
          2.9032755737575107,
          2.9524777489677367,
          3.0318380538276495,
          3.093224246896856,
          3.1521420876785102,
          3.154527656434818,
          3.146672128379841,
          3.137683116946417,
          3.1185513179220843,
          3.086957327381257,
          3.0810217712653616,
          3.0798305093433465,
          3.109276823719444,
          3.1558372510582275,
          3.2061632033603424,
          3.2418438644594505,
          3.284293890041334,
          3.331925456015495,
          3.353528478187756,
          3.3469303712490364,
          3.3477613401801753,
          3.3239168334554687,
          3.2826278699949527,
          3.1544495792201634,
          2.9676708613197667,
          2.7822097959655046,
          2.5761066413509734,
          2.390516719071614,
          2.240412155348788,
          2.2759724674711883,
          2.4635703095252977,
          2.7426200181620652,
          3.0644526181600447,
          3.450510100372166,
          3.8042075994839073,
          4.136176869797309,
          4.374210551699905,
          4.588913733101494,
          4.79918848249598,
          4.983090963105933,
          5.124679498883551,
          5.235880484044014,
          5.312585507811912,
          5.392502711049348,
          5.555195434545551,
          5.772312335711827,
          5.982530408962005,
          6.190851709979639,
          6.348822395304895,
          6.449252195842168,
          6.5611795527371815,
          6.741497371089965,
          6.89550995469085,
          6.8414046683527046,
          6.645374858941226,
          6.22565062487976,
          5.745327051740885,
          5.178000137443682,
          4.550307673349247,
          3.960919704021866,
          3.420281003726232,
          2.8763384457714247,
          2.323725285246187,
          1.7335097582251477,
          1.1984072455153592,
          0.7507691193017028,
          0.3048806235973714,
          -0.099682077265901,
          -0.39213263980765106,
          -0.5553311550493067,
          -0.6415765288959543,
          -0.6461641419313914,
          -0.5822216422298152,
          -0.5374989824267121,
          -0.45042089166426846,
          -0.393621105283108,
          -0.32724712061982614,
          -0.25936078101982163,
          -0.1615852731512855,
          0.06870823358278222,
          0.3171828672393586,
          0.5647406649605374,
          0.7898010874262942,
          0.9601994333354155,
          1.036714279654226,
          1.0724210879622198,
          1.068023317672928,
          1.0184160819902528,
          0.9294241255422717,
          0.8184529271932426,
          0.7223867113367254,
          0.552898263588816,
          0.4107471183834807,
          0.1891805744983466,
          -0.07241425992372505,
          -0.3185758039928541,
          -0.4694794387457595,
          -0.4866025585871981,
          -0.42329239854177614,
          -0.3497342807520572,
          -0.2783958857374453,
          -0.1553944353639476,
          -0.010572563690415926,
          0.14115599000023807,
          0.3055305408157142,
          0.45399962921520765,
          0.5619837145394684,
          0.6473832089800249,
          0.69193403006118,
          0.651288331176184,
          0.5789492251487542,
          0.5029387060655379,
          0.4363997483559096,
          0.4175387909967634,
          0.48715122510716197,
          0.6132011514499025,
          0.7643860411636318,
          0.9106489008661891,
          1.0680154576010041,
          1.2317091965473175,
          1.3464988228942047,
          1.4448433265005662,
          1.5111898014466125,
          1.5405068728907114,
          1.6388885684708938,
          1.770549138596579,
          1.9263303787531787,
          2.0521262795438906,
          2.172904617108755,
          2.337487918362978,
          2.5008939523459643,
          2.665409912971247,
          2.8912272100391543,
          3.1080024357898846,
          3.2823153036701425
         ],
         "yaxis": "y"
        }
       ],
       "layout": {
        "legend": {
         "title": {
          "text": "variable"
         },
         "tracegroupgap": 0
        },
        "template": {
         "data": {
          "bar": [
           {
            "error_x": {
             "color": "#2a3f5f"
            },
            "error_y": {
             "color": "#2a3f5f"
            },
            "marker": {
             "line": {
              "color": "#E5ECF6",
              "width": 0.5
             },
             "pattern": {
              "fillmode": "overlay",
              "size": 10,
              "solidity": 0.2
             }
            },
            "type": "bar"
           }
          ],
          "barpolar": [
           {
            "marker": {
             "line": {
              "color": "#E5ECF6",
              "width": 0.5
             },
             "pattern": {
              "fillmode": "overlay",
              "size": 10,
              "solidity": 0.2
             }
            },
            "type": "barpolar"
           }
          ],
          "carpet": [
           {
            "aaxis": {
             "endlinecolor": "#2a3f5f",
             "gridcolor": "white",
             "linecolor": "white",
             "minorgridcolor": "white",
             "startlinecolor": "#2a3f5f"
            },
            "baxis": {
             "endlinecolor": "#2a3f5f",
             "gridcolor": "white",
             "linecolor": "white",
             "minorgridcolor": "white",
             "startlinecolor": "#2a3f5f"
            },
            "type": "carpet"
           }
          ],
          "choropleth": [
           {
            "colorbar": {
             "outlinewidth": 0,
             "ticks": ""
            },
            "type": "choropleth"
           }
          ],
          "contour": [
           {
            "colorbar": {
             "outlinewidth": 0,
             "ticks": ""
            },
            "colorscale": [
             [
              0,
              "#0d0887"
             ],
             [
              0.1111111111111111,
              "#46039f"
             ],
             [
              0.2222222222222222,
              "#7201a8"
             ],
             [
              0.3333333333333333,
              "#9c179e"
             ],
             [
              0.4444444444444444,
              "#bd3786"
             ],
             [
              0.5555555555555556,
              "#d8576b"
             ],
             [
              0.6666666666666666,
              "#ed7953"
             ],
             [
              0.7777777777777778,
              "#fb9f3a"
             ],
             [
              0.8888888888888888,
              "#fdca26"
             ],
             [
              1,
              "#f0f921"
             ]
            ],
            "type": "contour"
           }
          ],
          "contourcarpet": [
           {
            "colorbar": {
             "outlinewidth": 0,
             "ticks": ""
            },
            "type": "contourcarpet"
           }
          ],
          "heatmap": [
           {
            "colorbar": {
             "outlinewidth": 0,
             "ticks": ""
            },
            "colorscale": [
             [
              0,
              "#0d0887"
             ],
             [
              0.1111111111111111,
              "#46039f"
             ],
             [
              0.2222222222222222,
              "#7201a8"
             ],
             [
              0.3333333333333333,
              "#9c179e"
             ],
             [
              0.4444444444444444,
              "#bd3786"
             ],
             [
              0.5555555555555556,
              "#d8576b"
             ],
             [
              0.6666666666666666,
              "#ed7953"
             ],
             [
              0.7777777777777778,
              "#fb9f3a"
             ],
             [
              0.8888888888888888,
              "#fdca26"
             ],
             [
              1,
              "#f0f921"
             ]
            ],
            "type": "heatmap"
           }
          ],
          "heatmapgl": [
           {
            "colorbar": {
             "outlinewidth": 0,
             "ticks": ""
            },
            "colorscale": [
             [
              0,
              "#0d0887"
             ],
             [
              0.1111111111111111,
              "#46039f"
             ],
             [
              0.2222222222222222,
              "#7201a8"
             ],
             [
              0.3333333333333333,
              "#9c179e"
             ],
             [
              0.4444444444444444,
              "#bd3786"
             ],
             [
              0.5555555555555556,
              "#d8576b"
             ],
             [
              0.6666666666666666,
              "#ed7953"
             ],
             [
              0.7777777777777778,
              "#fb9f3a"
             ],
             [
              0.8888888888888888,
              "#fdca26"
             ],
             [
              1,
              "#f0f921"
             ]
            ],
            "type": "heatmapgl"
           }
          ],
          "histogram": [
           {
            "marker": {
             "pattern": {
              "fillmode": "overlay",
              "size": 10,
              "solidity": 0.2
             }
            },
            "type": "histogram"
           }
          ],
          "histogram2d": [
           {
            "colorbar": {
             "outlinewidth": 0,
             "ticks": ""
            },
            "colorscale": [
             [
              0,
              "#0d0887"
             ],
             [
              0.1111111111111111,
              "#46039f"
             ],
             [
              0.2222222222222222,
              "#7201a8"
             ],
             [
              0.3333333333333333,
              "#9c179e"
             ],
             [
              0.4444444444444444,
              "#bd3786"
             ],
             [
              0.5555555555555556,
              "#d8576b"
             ],
             [
              0.6666666666666666,
              "#ed7953"
             ],
             [
              0.7777777777777778,
              "#fb9f3a"
             ],
             [
              0.8888888888888888,
              "#fdca26"
             ],
             [
              1,
              "#f0f921"
             ]
            ],
            "type": "histogram2d"
           }
          ],
          "histogram2dcontour": [
           {
            "colorbar": {
             "outlinewidth": 0,
             "ticks": ""
            },
            "colorscale": [
             [
              0,
              "#0d0887"
             ],
             [
              0.1111111111111111,
              "#46039f"
             ],
             [
              0.2222222222222222,
              "#7201a8"
             ],
             [
              0.3333333333333333,
              "#9c179e"
             ],
             [
              0.4444444444444444,
              "#bd3786"
             ],
             [
              0.5555555555555556,
              "#d8576b"
             ],
             [
              0.6666666666666666,
              "#ed7953"
             ],
             [
              0.7777777777777778,
              "#fb9f3a"
             ],
             [
              0.8888888888888888,
              "#fdca26"
             ],
             [
              1,
              "#f0f921"
             ]
            ],
            "type": "histogram2dcontour"
           }
          ],
          "mesh3d": [
           {
            "colorbar": {
             "outlinewidth": 0,
             "ticks": ""
            },
            "type": "mesh3d"
           }
          ],
          "parcoords": [
           {
            "line": {
             "colorbar": {
              "outlinewidth": 0,
              "ticks": ""
             }
            },
            "type": "parcoords"
           }
          ],
          "pie": [
           {
            "automargin": true,
            "type": "pie"
           }
          ],
          "scatter": [
           {
            "fillpattern": {
             "fillmode": "overlay",
             "size": 10,
             "solidity": 0.2
            },
            "type": "scatter"
           }
          ],
          "scatter3d": [
           {
            "line": {
             "colorbar": {
              "outlinewidth": 0,
              "ticks": ""
             }
            },
            "marker": {
             "colorbar": {
              "outlinewidth": 0,
              "ticks": ""
             }
            },
            "type": "scatter3d"
           }
          ],
          "scattercarpet": [
           {
            "marker": {
             "colorbar": {
              "outlinewidth": 0,
              "ticks": ""
             }
            },
            "type": "scattercarpet"
           }
          ],
          "scattergeo": [
           {
            "marker": {
             "colorbar": {
              "outlinewidth": 0,
              "ticks": ""
             }
            },
            "type": "scattergeo"
           }
          ],
          "scattergl": [
           {
            "marker": {
             "colorbar": {
              "outlinewidth": 0,
              "ticks": ""
             }
            },
            "type": "scattergl"
           }
          ],
          "scattermapbox": [
           {
            "marker": {
             "colorbar": {
              "outlinewidth": 0,
              "ticks": ""
             }
            },
            "type": "scattermapbox"
           }
          ],
          "scatterpolar": [
           {
            "marker": {
             "colorbar": {
              "outlinewidth": 0,
              "ticks": ""
             }
            },
            "type": "scatterpolar"
           }
          ],
          "scatterpolargl": [
           {
            "marker": {
             "colorbar": {
              "outlinewidth": 0,
              "ticks": ""
             }
            },
            "type": "scatterpolargl"
           }
          ],
          "scatterternary": [
           {
            "marker": {
             "colorbar": {
              "outlinewidth": 0,
              "ticks": ""
             }
            },
            "type": "scatterternary"
           }
          ],
          "surface": [
           {
            "colorbar": {
             "outlinewidth": 0,
             "ticks": ""
            },
            "colorscale": [
             [
              0,
              "#0d0887"
             ],
             [
              0.1111111111111111,
              "#46039f"
             ],
             [
              0.2222222222222222,
              "#7201a8"
             ],
             [
              0.3333333333333333,
              "#9c179e"
             ],
             [
              0.4444444444444444,
              "#bd3786"
             ],
             [
              0.5555555555555556,
              "#d8576b"
             ],
             [
              0.6666666666666666,
              "#ed7953"
             ],
             [
              0.7777777777777778,
              "#fb9f3a"
             ],
             [
              0.8888888888888888,
              "#fdca26"
             ],
             [
              1,
              "#f0f921"
             ]
            ],
            "type": "surface"
           }
          ],
          "table": [
           {
            "cells": {
             "fill": {
              "color": "#EBF0F8"
             },
             "line": {
              "color": "white"
             }
            },
            "header": {
             "fill": {
              "color": "#C8D4E3"
             },
             "line": {
              "color": "white"
             }
            },
            "type": "table"
           }
          ]
         },
         "layout": {
          "annotationdefaults": {
           "arrowcolor": "#2a3f5f",
           "arrowhead": 0,
           "arrowwidth": 1
          },
          "autotypenumbers": "strict",
          "coloraxis": {
           "colorbar": {
            "outlinewidth": 0,
            "ticks": ""
           }
          },
          "colorscale": {
           "diverging": [
            [
             0,
             "#8e0152"
            ],
            [
             0.1,
             "#c51b7d"
            ],
            [
             0.2,
             "#de77ae"
            ],
            [
             0.3,
             "#f1b6da"
            ],
            [
             0.4,
             "#fde0ef"
            ],
            [
             0.5,
             "#f7f7f7"
            ],
            [
             0.6,
             "#e6f5d0"
            ],
            [
             0.7,
             "#b8e186"
            ],
            [
             0.8,
             "#7fbc41"
            ],
            [
             0.9,
             "#4d9221"
            ],
            [
             1,
             "#276419"
            ]
           ],
           "sequential": [
            [
             0,
             "#0d0887"
            ],
            [
             0.1111111111111111,
             "#46039f"
            ],
            [
             0.2222222222222222,
             "#7201a8"
            ],
            [
             0.3333333333333333,
             "#9c179e"
            ],
            [
             0.4444444444444444,
             "#bd3786"
            ],
            [
             0.5555555555555556,
             "#d8576b"
            ],
            [
             0.6666666666666666,
             "#ed7953"
            ],
            [
             0.7777777777777778,
             "#fb9f3a"
            ],
            [
             0.8888888888888888,
             "#fdca26"
            ],
            [
             1,
             "#f0f921"
            ]
           ],
           "sequentialminus": [
            [
             0,
             "#0d0887"
            ],
            [
             0.1111111111111111,
             "#46039f"
            ],
            [
             0.2222222222222222,
             "#7201a8"
            ],
            [
             0.3333333333333333,
             "#9c179e"
            ],
            [
             0.4444444444444444,
             "#bd3786"
            ],
            [
             0.5555555555555556,
             "#d8576b"
            ],
            [
             0.6666666666666666,
             "#ed7953"
            ],
            [
             0.7777777777777778,
             "#fb9f3a"
            ],
            [
             0.8888888888888888,
             "#fdca26"
            ],
            [
             1,
             "#f0f921"
            ]
           ]
          },
          "colorway": [
           "#636efa",
           "#EF553B",
           "#00cc96",
           "#ab63fa",
           "#FFA15A",
           "#19d3f3",
           "#FF6692",
           "#B6E880",
           "#FF97FF",
           "#FECB52"
          ],
          "font": {
           "color": "#2a3f5f"
          },
          "geo": {
           "bgcolor": "white",
           "lakecolor": "white",
           "landcolor": "#E5ECF6",
           "showlakes": true,
           "showland": true,
           "subunitcolor": "white"
          },
          "hoverlabel": {
           "align": "left"
          },
          "hovermode": "closest",
          "mapbox": {
           "style": "light"
          },
          "paper_bgcolor": "white",
          "plot_bgcolor": "#E5ECF6",
          "polar": {
           "angularaxis": {
            "gridcolor": "white",
            "linecolor": "white",
            "ticks": ""
           },
           "bgcolor": "#E5ECF6",
           "radialaxis": {
            "gridcolor": "white",
            "linecolor": "white",
            "ticks": ""
           }
          },
          "scene": {
           "xaxis": {
            "backgroundcolor": "#E5ECF6",
            "gridcolor": "white",
            "gridwidth": 2,
            "linecolor": "white",
            "showbackground": true,
            "ticks": "",
            "zerolinecolor": "white"
           },
           "yaxis": {
            "backgroundcolor": "#E5ECF6",
            "gridcolor": "white",
            "gridwidth": 2,
            "linecolor": "white",
            "showbackground": true,
            "ticks": "",
            "zerolinecolor": "white"
           },
           "zaxis": {
            "backgroundcolor": "#E5ECF6",
            "gridcolor": "white",
            "gridwidth": 2,
            "linecolor": "white",
            "showbackground": true,
            "ticks": "",
            "zerolinecolor": "white"
           }
          },
          "shapedefaults": {
           "line": {
            "color": "#2a3f5f"
           }
          },
          "ternary": {
           "aaxis": {
            "gridcolor": "white",
            "linecolor": "white",
            "ticks": ""
           },
           "baxis": {
            "gridcolor": "white",
            "linecolor": "white",
            "ticks": ""
           },
           "bgcolor": "#E5ECF6",
           "caxis": {
            "gridcolor": "white",
            "linecolor": "white",
            "ticks": ""
           }
          },
          "title": {
           "x": 0.05
          },
          "xaxis": {
           "automargin": true,
           "gridcolor": "white",
           "linecolor": "white",
           "ticks": "",
           "title": {
            "standoff": 15
           },
           "zerolinecolor": "white",
           "zerolinewidth": 2
          },
          "yaxis": {
           "automargin": true,
           "gridcolor": "white",
           "linecolor": "white",
           "ticks": "",
           "title": {
            "standoff": 15
           },
           "zerolinecolor": "white",
           "zerolinewidth": 2
          }
         }
        },
        "title": {
         "text": "Moving Average Convergence Divergence"
        },
        "xaxis": {
         "anchor": "y",
         "domain": [
          0,
          1
         ],
         "title": {
          "text": "index"
         }
        },
        "yaxis": {
         "anchor": "x",
         "domain": [
          0,
          1
         ],
         "title": {
          "text": "value"
         }
        }
       }
      }
     },
     "metadata": {},
     "output_type": "display_data"
    }
   ],
   "source": [
    "finance=FinancialAnalyzer('AAPL','2020-01-01','2020-12-30')\n",
    "df=finance.ticker_data()\n",
    "df=finance.technical_indicators(df)\n",
    "row=finance.plot_macd(df)\n",
    "row\n"
   ]
  },
  {
   "cell_type": "code",
   "execution_count": 18,
   "metadata": {},
   "outputs": [
    {
     "name": "stderr",
     "output_type": "stream",
     "text": [
      "C:\\Users\\abenet\\AppData\\Local\\Temp\\ipykernel_7568\\3501929976.py:3: FutureWarning: In a future version of pandas, parsing datetimes with mixed time zones will raise an error unless `utc=True`. Please specify `utc=True` to opt in to the new behaviour and silence this warning. To create a `Series` with mixed offsets and `object` dtype, please use `apply` and `datetime.datetime.strptime`\n",
      "  dr['date']=pd.to_datetime(dr['date'],format='mixed')\n"
     ]
    },
    {
     "ename": "AttributeError",
     "evalue": "Can only use .dt accessor with datetimelike values",
     "output_type": "error",
     "traceback": [
      "\u001b[1;31m---------------------------------------------------------------------------\u001b[0m",
      "\u001b[1;31mAttributeError\u001b[0m                            Traceback (most recent call last)",
      "Cell \u001b[1;32mIn[18], line 4\u001b[0m\n\u001b[0;32m      2\u001b[0m dr\u001b[38;5;241m=\u001b[39mpd\u001b[38;5;241m.\u001b[39mDataFrame(dr)\n\u001b[0;32m      3\u001b[0m dr[\u001b[38;5;124m'\u001b[39m\u001b[38;5;124mdate\u001b[39m\u001b[38;5;124m'\u001b[39m]\u001b[38;5;241m=\u001b[39mpd\u001b[38;5;241m.\u001b[39mto_datetime(dr[\u001b[38;5;124m'\u001b[39m\u001b[38;5;124mdate\u001b[39m\u001b[38;5;124m'\u001b[39m],\u001b[38;5;28mformat\u001b[39m\u001b[38;5;241m=\u001b[39m\u001b[38;5;124m'\u001b[39m\u001b[38;5;124mmixed\u001b[39m\u001b[38;5;124m'\u001b[39m)\n\u001b[1;32m----> 4\u001b[0m \u001b[43mdr\u001b[49m\u001b[43m[\u001b[49m\u001b[38;5;124;43m'\u001b[39;49m\u001b[38;5;124;43mdate\u001b[39;49m\u001b[38;5;124;43m'\u001b[39;49m\u001b[43m]\u001b[49m\u001b[38;5;241;43m.\u001b[39;49m\u001b[43mdt\u001b[49m\u001b[38;5;241m.\u001b[39mdate\n\u001b[0;32m      5\u001b[0m \u001b[38;5;66;03m#dr.to_csv('C:/Users/abenet/Desktop/data/sentiment.csv')\u001b[39;00m\n",
      "File \u001b[1;32mc:\\Users\\abenet\\Desktop\\Trial\\AIM-Week_1\\.venv\\Lib\\site-packages\\pandas\\core\\generic.py:6299\u001b[0m, in \u001b[0;36mNDFrame.__getattr__\u001b[1;34m(self, name)\u001b[0m\n\u001b[0;32m   6292\u001b[0m \u001b[38;5;28;01mif\u001b[39;00m (\n\u001b[0;32m   6293\u001b[0m     name \u001b[38;5;129;01mnot\u001b[39;00m \u001b[38;5;129;01min\u001b[39;00m \u001b[38;5;28mself\u001b[39m\u001b[38;5;241m.\u001b[39m_internal_names_set\n\u001b[0;32m   6294\u001b[0m     \u001b[38;5;129;01mand\u001b[39;00m name \u001b[38;5;129;01mnot\u001b[39;00m \u001b[38;5;129;01min\u001b[39;00m \u001b[38;5;28mself\u001b[39m\u001b[38;5;241m.\u001b[39m_metadata\n\u001b[0;32m   6295\u001b[0m     \u001b[38;5;129;01mand\u001b[39;00m name \u001b[38;5;129;01mnot\u001b[39;00m \u001b[38;5;129;01min\u001b[39;00m \u001b[38;5;28mself\u001b[39m\u001b[38;5;241m.\u001b[39m_accessors\n\u001b[0;32m   6296\u001b[0m     \u001b[38;5;129;01mand\u001b[39;00m \u001b[38;5;28mself\u001b[39m\u001b[38;5;241m.\u001b[39m_info_axis\u001b[38;5;241m.\u001b[39m_can_hold_identifiers_and_holds_name(name)\n\u001b[0;32m   6297\u001b[0m ):\n\u001b[0;32m   6298\u001b[0m     \u001b[38;5;28;01mreturn\u001b[39;00m \u001b[38;5;28mself\u001b[39m[name]\n\u001b[1;32m-> 6299\u001b[0m \u001b[38;5;28;01mreturn\u001b[39;00m \u001b[38;5;28;43mobject\u001b[39;49m\u001b[38;5;241;43m.\u001b[39;49m\u001b[38;5;21;43m__getattribute__\u001b[39;49m\u001b[43m(\u001b[49m\u001b[38;5;28;43mself\u001b[39;49m\u001b[43m,\u001b[49m\u001b[43m \u001b[49m\u001b[43mname\u001b[49m\u001b[43m)\u001b[49m\n",
      "File \u001b[1;32mc:\\Users\\abenet\\Desktop\\Trial\\AIM-Week_1\\.venv\\Lib\\site-packages\\pandas\\core\\accessor.py:224\u001b[0m, in \u001b[0;36mCachedAccessor.__get__\u001b[1;34m(self, obj, cls)\u001b[0m\n\u001b[0;32m    221\u001b[0m \u001b[38;5;28;01mif\u001b[39;00m obj \u001b[38;5;129;01mis\u001b[39;00m \u001b[38;5;28;01mNone\u001b[39;00m:\n\u001b[0;32m    222\u001b[0m     \u001b[38;5;66;03m# we're accessing the attribute of the class, i.e., Dataset.geo\u001b[39;00m\n\u001b[0;32m    223\u001b[0m     \u001b[38;5;28;01mreturn\u001b[39;00m \u001b[38;5;28mself\u001b[39m\u001b[38;5;241m.\u001b[39m_accessor\n\u001b[1;32m--> 224\u001b[0m accessor_obj \u001b[38;5;241m=\u001b[39m \u001b[38;5;28;43mself\u001b[39;49m\u001b[38;5;241;43m.\u001b[39;49m\u001b[43m_accessor\u001b[49m\u001b[43m(\u001b[49m\u001b[43mobj\u001b[49m\u001b[43m)\u001b[49m\n\u001b[0;32m    225\u001b[0m \u001b[38;5;66;03m# Replace the property with the accessor object. Inspired by:\u001b[39;00m\n\u001b[0;32m    226\u001b[0m \u001b[38;5;66;03m# https://www.pydanny.com/cached-property.html\u001b[39;00m\n\u001b[0;32m    227\u001b[0m \u001b[38;5;66;03m# We need to use object.__setattr__ because we overwrite __setattr__ on\u001b[39;00m\n\u001b[0;32m    228\u001b[0m \u001b[38;5;66;03m# NDFrame\u001b[39;00m\n\u001b[0;32m    229\u001b[0m \u001b[38;5;28mobject\u001b[39m\u001b[38;5;241m.\u001b[39m\u001b[38;5;21m__setattr__\u001b[39m(obj, \u001b[38;5;28mself\u001b[39m\u001b[38;5;241m.\u001b[39m_name, accessor_obj)\n",
      "File \u001b[1;32mc:\\Users\\abenet\\Desktop\\Trial\\AIM-Week_1\\.venv\\Lib\\site-packages\\pandas\\core\\indexes\\accessors.py:643\u001b[0m, in \u001b[0;36mCombinedDatetimelikeProperties.__new__\u001b[1;34m(cls, data)\u001b[0m\n\u001b[0;32m    640\u001b[0m \u001b[38;5;28;01melif\u001b[39;00m \u001b[38;5;28misinstance\u001b[39m(data\u001b[38;5;241m.\u001b[39mdtype, PeriodDtype):\n\u001b[0;32m    641\u001b[0m     \u001b[38;5;28;01mreturn\u001b[39;00m PeriodProperties(data, orig)\n\u001b[1;32m--> 643\u001b[0m \u001b[38;5;28;01mraise\u001b[39;00m \u001b[38;5;167;01mAttributeError\u001b[39;00m(\u001b[38;5;124m\"\u001b[39m\u001b[38;5;124mCan only use .dt accessor with datetimelike values\u001b[39m\u001b[38;5;124m\"\u001b[39m)\n",
      "\u001b[1;31mAttributeError\u001b[0m: Can only use .dt accessor with datetimelike values"
     ]
    }
   ],
   "source": [
    "\n",
    "dr=news_df['sentiment'].groupby(by=news_df['date']).mean().reset_index()\n",
    "dr=pd.DataFrame(dr)\n",
    "dr['date']=pd.to_datetime(dr['date'],format='mixed')\n",
    "dr['date'].dt.date\n",
    "#dr.to_csv('C:/Users/abenet/Desktop/data/sentiment.csv')"
   ]
  },
  {
   "cell_type": "code",
   "execution_count": null,
   "metadata": {},
   "outputs": [],
   "source": []
  }
 ],
 "metadata": {
  "kernelspec": {
   "display_name": ".venv",
   "language": "python",
   "name": "python3"
  },
  "language_info": {
   "codemirror_mode": {
    "name": "ipython",
    "version": 3
   },
   "file_extension": ".py",
   "mimetype": "text/x-python",
   "name": "python",
   "nbconvert_exporter": "python",
   "pygments_lexer": "ipython3",
   "version": "3.11.4"
  }
 },
 "nbformat": 4,
 "nbformat_minor": 2
}
